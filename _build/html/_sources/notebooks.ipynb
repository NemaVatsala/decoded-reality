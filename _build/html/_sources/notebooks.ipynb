{
 "cells": [
  {
   "cell_type": "markdown",
   "metadata": {},
   "source": [
    "# Visualization in our everyday workbench"
   ]
  },
  {
   "cell_type": "code",
   "execution_count": 1,
   "metadata": {},
   "outputs": [],
   "source": [
    "import pandas as pd"
   ]
  },
  {
   "cell_type": "code",
   "execution_count": 2,
   "metadata": {},
   "outputs": [],
   "source": [
    "from typing import List"
   ]
  },
  {
   "cell_type": "code",
   "execution_count": 3,
   "metadata": {},
   "outputs": [],
   "source": [
    "column_names: List[str] = ['age', 'workclass', 'fnlwgt' ,'education', 'education-num', 'marital-status',\n",
    "                           'occupation', 'relationship', 'race', 'sex', 'capital-gain', 'capital-loss',\n",
    "                          'hours-per-week', 'native-country', 'income']"
   ]
  },
  {
   "cell_type": "code",
   "execution_count": 4,
   "metadata": {},
   "outputs": [],
   "source": [
    "training_data: pd.DataFrame = pd.read_csv(\"https://archive.ics.uci.edu/ml/machine-learning-databases/adult/adult.data\", header=None, names=column_names)"
   ]
  },
  {
   "cell_type": "code",
   "execution_count": 5,
   "metadata": {},
   "outputs": [],
   "source": [
    "test_data: pd.DataFrame = pd.read_csv('https://archive.ics.uci.edu/ml/machine-learning-databases/adult/adult.test', header=None, names=column_names, skiprows=[0])"
   ]
  },
  {
   "cell_type": "code",
   "execution_count": 6,
   "metadata": {},
   "outputs": [],
   "source": [
    "X_train: pd.DataFrame = training_data.iloc[:,:-1]"
   ]
  },
  {
   "cell_type": "code",
   "execution_count": 7,
   "metadata": {},
   "outputs": [],
   "source": [
    "X_test: pd.DataFrame = test_data.iloc[:, :-1]"
   ]
  },
  {
   "cell_type": "markdown",
   "metadata": {},
   "source": [
    "![Data Panel](Data.gif)"
   ]
  },
  {
   "cell_type": "markdown",
   "metadata": {},
   "source": [
    "### AI presented as the harbinger of progress and hence data is for the taking\n",
    "\n",
    "Arcade mechanical picker game is depicted, where the toys are replaced by people’s faces. \n",
    "There’s a stark disparity between the abundance of ‘western’ faces and those with darker skin tones. \n",
    "Ironically there is a sign on top of the game saying “diverse, ethical, fair” with the faces of prominent scholars. \n",
    "A Mark- Zuckerburg-type is seen operating the joystick and playing the game. \n",
    "The mechanical hand has the words Efficiency, Advancement, Progress and Innovation on it."
   ]
  },
  {
   "cell_type": "code",
   "execution_count": 8,
   "metadata": {},
   "outputs": [],
   "source": [
    "y_train: pd.Series = training_data.iloc[:, -1]"
   ]
  },
  {
   "cell_type": "code",
   "execution_count": 9,
   "metadata": {},
   "outputs": [],
   "source": [
    "y_test: pd.Series = test_data.iloc[:,-1]"
   ]
  },
  {
   "cell_type": "markdown",
   "metadata": {},
   "source": [
    "![Labels](Labels.gif)"
   ]
  },
  {
   "cell_type": "markdown",
   "metadata": {},
   "source": [
    "### People at the margins that do not conform to societal archetypes are the ones most affected by imposed class labels\n",
    "\n",
    "A powerful, white male shoots an arrow into a large terrain. \n",
    "The arrow reads “Objectivity”. \n",
    "The ground starts splitting into 4-5 different land masses and people at the boundary start to fall into the abyss below."
   ]
  }
 ],
 "metadata": {
  "kernelspec": {
   "display_name": "Python [conda env:aiethics-technical] *",
   "language": "python",
   "name": "python"
  },
  "language_info": {
   "codemirror_mode": {
    "name": "ipython",
    "version": 3
   },
   "file_extension": ".py",
   "mimetype": "text/x-python",
   "name": "python",
   "nbconvert_exporter": "python",
   "pygments_lexer": "ipython3",
   "version": "3.7.7"
  }
 },
 "nbformat": 4,
 "nbformat_minor": 4
}
