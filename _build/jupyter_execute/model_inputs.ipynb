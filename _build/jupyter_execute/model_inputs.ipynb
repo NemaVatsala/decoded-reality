{
 "cells": [
  {
   "cell_type": "markdown",
   "metadata": {},
   "source": [
    "# Model Inputs"
   ]
  },
  {
   "cell_type": "code",
   "execution_count": 1,
   "metadata": {},
   "outputs": [],
   "source": [
    "import pandas as pd\n",
    "from resistance_ai import decode_reality"
   ]
  },
  {
   "cell_type": "code",
   "execution_count": 2,
   "metadata": {},
   "outputs": [],
   "source": [
    "model_inputs = pd.read_csv(\"Data.csv\")\n",
    "decode_reality.visualize(model_inputs)"
   ]
  },
  {
   "cell_type": "markdown",
   "metadata": {},
   "source": [
    "![An arcade mechanical picker game is depicted, where the toys are replaced by people’s faces. There’s a stark disparity between the abundance of ‘western’ faces and the dearth of those with darker skin tones. There is a sign on top of the game saying “diverse, ethical, fair” with the faces of prominent scholars Deborah Raji,Timnit Gebru and Joy Boulamwini. A person in a jacket with the logos of big tech companies is seen operating the joystick. His face is superimposed with the words ‘A Silicon Valley type’.The mechanical hand is moving downwards towards the toy faces and has the words Efficiency, Advancement, Progress and Innovation written on it](Data.gif)"
   ]
  },
  {
   "cell_type": "code",
   "execution_count": 3,
   "metadata": {},
   "outputs": [],
   "source": [
    "decode_reality.explain(model_inputs)"
   ]
  },
  {
   "cell_type": "markdown",
   "metadata": {},
   "source": [
    "Data is for the taking. No matter who, no matter how private or personal the data in question.\n",
    "\n",
    "Despite there being sufficient scholarship documenting the harm of existing approaches (such as Facial Recognition<sup>5</sup>), the same old adage of ‘Progress and Innovation’ is touted and used to justify the obsession with creating technological solutions to societal problems. Self-affirming ‘Fairness’ and ‘Ethics’ certificates are stamped onto data collection strategies, while the ground reality remains discriminatory and predatory. \n",
    "\n",
    "A data point might just look like a bunch of numbers loaded in a Data frame, but the irrevocable truth is that it wasn’t created out of thin air – it was collected by a power-wielding entity, about a living-breathing human being, in a socio-techno-political context<sup>6</sup>. "
   ]
  }
 ],
 "metadata": {
  "kernelspec": {
   "display_name": "Python 3",
   "language": "python",
   "name": "python3"
  },
  "language_info": {
   "codemirror_mode": {
    "name": "ipython",
    "version": 3
   },
   "file_extension": ".py",
   "mimetype": "text/x-python",
   "name": "python",
   "nbconvert_exporter": "python",
   "pygments_lexer": "ipython3",
   "version": "3.7.7"
  }
 },
 "nbformat": 4,
 "nbformat_minor": 4
}