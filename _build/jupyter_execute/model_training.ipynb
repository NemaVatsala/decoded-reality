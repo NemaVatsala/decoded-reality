{
 "cells": [
  {
   "cell_type": "markdown",
   "metadata": {},
   "source": [
    "# Model Training"
   ]
  },
  {
   "cell_type": "code",
   "execution_count": 1,
   "metadata": {},
   "outputs": [],
   "source": [
    "from model_training import model\n",
    "from resistance_ai import decode_reality"
   ]
  },
  {
   "cell_type": "code",
   "execution_count": 2,
   "metadata": {},
   "outputs": [],
   "source": [
    "model_inputs, model_outputs = model.see_previous_panels()"
   ]
  },
  {
   "cell_type": "code",
   "execution_count": 3,
   "metadata": {},
   "outputs": [],
   "source": [
    "optimization = model.fit(model_inputs, model_outputs)\n",
    "decode_reality.visualize(optimization)"
   ]
  },
  {
   "cell_type": "markdown",
   "metadata": {},
   "source": [
    "![Two ethereal forms are in the center of the screen. The one at the back is composed of colorful pixels and has the word ‘Data’’ written in hollow characters behind it. The words ‘Racism’ and ‘Oppression’ are written within the word ‘Data’. The figure in the front is composed of a network of graph nodes/vertices and edges and has the word ‘Model’ written behind it in hollow characters. The word ‘Discriminatory’ is written within the world ‘Model’. Two humans are looking at the ethereal beings. To the right stands a Caucasian male, who is emphatically blowing a kiss to the Model. To the left stands an African-American female, who is looking at the model in disapproval while flames rise around her. ](Optimization.gif)"
   ]
  },
  {
   "cell_type": "code",
   "execution_count": 4,
   "metadata": {},
   "outputs": [],
   "source": [
    "decode_reality.explain(optimization)"
   ]
  },
  {
   "cell_type": "markdown",
   "metadata": {},
   "source": [
    "When training an algorithm, our objective is to learn as many associations as possible between the inputs and outputs, so that the algorithm can use these to faithfully reproduce the same kind of predictions that were made by it’s human predecessors.\n",
    "\n",
    "The algorithm has no inherent way of determining which learned associations are ‘good’ and which are ‘harmful’. That is for the human to decide.\n",
    "\n",
    "Any association that the human decides is ‘bad’ or incorrectly learned for the task at hand, is deemed to be a ‘Bias’.\n",
    "What happens when the model is trained on data generated from an oppressive and racist society? An ‘accurate’ model will faithfully learn the discriminatory associations in its training data.\n",
    "\n",
    "If the human in charge is in a position of privilege and does not deem this model behavior as ‘harmful’ or ‘biased’,  we end up deploying predatory models back into the broken ecosystem from which they were created, to wreak the same havoc all over again. "
   ]
  }
 ],
 "metadata": {
  "kernelspec": {
   "display_name": "Python 3",
   "language": "python",
   "name": "python3"
  },
  "language_info": {
   "codemirror_mode": {
    "name": "ipython",
    "version": 3
   },
   "file_extension": ".py",
   "mimetype": "text/x-python",
   "name": "python",
   "nbconvert_exporter": "python",
   "pygments_lexer": "ipython3",
   "version": "3.7.7"
  }
 },
 "nbformat": 4,
 "nbformat_minor": 4
}